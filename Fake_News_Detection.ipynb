{
  "nbformat": 4,
  "nbformat_minor": 0,
  "metadata": {
    "colab": {
      "name": "Fake_News_Detection.ipynb",
      "provenance": [],
      "collapsed_sections": [],
      "mount_file_id": "1pUknx9S8KmN0hYTWbSd4KKkBOZS6FTFu",
      "authorship_tag": "ABX9TyMCaeqm4PkH9NAi9tY/4u1t",
      "include_colab_link": true
    },
    "kernelspec": {
      "name": "python3",
      "display_name": "Python 3"
    },
    "language_info": {
      "name": "python"
    }
  },
  "cells": [
    {
      "cell_type": "markdown",
      "metadata": {
        "id": "view-in-github",
        "colab_type": "text"
      },
      "source": [
        "<a href=\"https://colab.research.google.com/github/harshit7962/Fake_News_Detection/blob/main/Fake_News_Detection.ipynb\" target=\"_parent\"><img src=\"https://colab.research.google.com/assets/colab-badge.svg\" alt=\"Open In Colab\"/></a>"
      ]
    },
    {
      "cell_type": "code",
      "metadata": {
        "id": "XkJzBWN0ZKBN"
      },
      "source": [
        "import numpy as np\n",
        "import pandas as pd\n",
        "import matplotlib.pyplot as plt"
      ],
      "execution_count": null,
      "outputs": []
    },
    {
      "cell_type": "code",
      "metadata": {
        "id": "7NQEsGqxZPg0"
      },
      "source": [
        "real_data=pd.read_csv(\"/content/drive/MyDrive/dataset/Fake_News_Detection/True.csv\")\n",
        "fake_data=pd.read_csv(\"/content/drive/MyDrive/dataset/Fake_News_Detection/Fake.csv\")"
      ],
      "execution_count": null,
      "outputs": []
    },
    {
      "cell_type": "code",
      "metadata": {
        "colab": {
          "base_uri": "https://localhost:8080/",
          "height": 206
        },
        "id": "DYVbA9QVbEW0",
        "outputId": "9240860c-9548-4ac6-a335-adb4024c20d7"
      },
      "source": [
        "fake_data.head()"
      ],
      "execution_count": null,
      "outputs": [
        {
          "output_type": "execute_result",
          "data": {
            "text/html": [
              "<div>\n",
              "<style scoped>\n",
              "    .dataframe tbody tr th:only-of-type {\n",
              "        vertical-align: middle;\n",
              "    }\n",
              "\n",
              "    .dataframe tbody tr th {\n",
              "        vertical-align: top;\n",
              "    }\n",
              "\n",
              "    .dataframe thead th {\n",
              "        text-align: right;\n",
              "    }\n",
              "</style>\n",
              "<table border=\"1\" class=\"dataframe\">\n",
              "  <thead>\n",
              "    <tr style=\"text-align: right;\">\n",
              "      <th></th>\n",
              "      <th>title</th>\n",
              "      <th>text</th>\n",
              "      <th>subject</th>\n",
              "      <th>date</th>\n",
              "    </tr>\n",
              "  </thead>\n",
              "  <tbody>\n",
              "    <tr>\n",
              "      <th>0</th>\n",
              "      <td>Donald Trump Sends Out Embarrassing New Year’...</td>\n",
              "      <td>Donald Trump just couldn t wish all Americans ...</td>\n",
              "      <td>News</td>\n",
              "      <td>December 31, 2017</td>\n",
              "    </tr>\n",
              "    <tr>\n",
              "      <th>1</th>\n",
              "      <td>Drunk Bragging Trump Staffer Started Russian ...</td>\n",
              "      <td>House Intelligence Committee Chairman Devin Nu...</td>\n",
              "      <td>News</td>\n",
              "      <td>December 31, 2017</td>\n",
              "    </tr>\n",
              "    <tr>\n",
              "      <th>2</th>\n",
              "      <td>Sheriff David Clarke Becomes An Internet Joke...</td>\n",
              "      <td>On Friday, it was revealed that former Milwauk...</td>\n",
              "      <td>News</td>\n",
              "      <td>December 30, 2017</td>\n",
              "    </tr>\n",
              "    <tr>\n",
              "      <th>3</th>\n",
              "      <td>Trump Is So Obsessed He Even Has Obama’s Name...</td>\n",
              "      <td>On Christmas day, Donald Trump announced that ...</td>\n",
              "      <td>News</td>\n",
              "      <td>December 29, 2017</td>\n",
              "    </tr>\n",
              "    <tr>\n",
              "      <th>4</th>\n",
              "      <td>Pope Francis Just Called Out Donald Trump Dur...</td>\n",
              "      <td>Pope Francis used his annual Christmas Day mes...</td>\n",
              "      <td>News</td>\n",
              "      <td>December 25, 2017</td>\n",
              "    </tr>\n",
              "  </tbody>\n",
              "</table>\n",
              "</div>"
            ],
            "text/plain": [
              "                                               title  ...               date\n",
              "0   Donald Trump Sends Out Embarrassing New Year’...  ...  December 31, 2017\n",
              "1   Drunk Bragging Trump Staffer Started Russian ...  ...  December 31, 2017\n",
              "2   Sheriff David Clarke Becomes An Internet Joke...  ...  December 30, 2017\n",
              "3   Trump Is So Obsessed He Even Has Obama’s Name...  ...  December 29, 2017\n",
              "4   Pope Francis Just Called Out Donald Trump Dur...  ...  December 25, 2017\n",
              "\n",
              "[5 rows x 4 columns]"
            ]
          },
          "metadata": {},
          "execution_count": 3
        }
      ]
    },
    {
      "cell_type": "code",
      "metadata": {
        "colab": {
          "base_uri": "https://localhost:8080/",
          "height": 423
        },
        "id": "R9wKngzjc09V",
        "outputId": "cf5374a3-f21f-43f7-f772-b9d497bcff66"
      },
      "source": [
        "real_data"
      ],
      "execution_count": null,
      "outputs": [
        {
          "output_type": "execute_result",
          "data": {
            "text/html": [
              "<div>\n",
              "<style scoped>\n",
              "    .dataframe tbody tr th:only-of-type {\n",
              "        vertical-align: middle;\n",
              "    }\n",
              "\n",
              "    .dataframe tbody tr th {\n",
              "        vertical-align: top;\n",
              "    }\n",
              "\n",
              "    .dataframe thead th {\n",
              "        text-align: right;\n",
              "    }\n",
              "</style>\n",
              "<table border=\"1\" class=\"dataframe\">\n",
              "  <thead>\n",
              "    <tr style=\"text-align: right;\">\n",
              "      <th></th>\n",
              "      <th>title</th>\n",
              "      <th>text</th>\n",
              "      <th>subject</th>\n",
              "      <th>date</th>\n",
              "    </tr>\n",
              "  </thead>\n",
              "  <tbody>\n",
              "    <tr>\n",
              "      <th>0</th>\n",
              "      <td>As U.S. budget fight looms, Republicans flip t...</td>\n",
              "      <td>WASHINGTON (Reuters) - The head of a conservat...</td>\n",
              "      <td>politicsNews</td>\n",
              "      <td>December 31, 2017</td>\n",
              "    </tr>\n",
              "    <tr>\n",
              "      <th>1</th>\n",
              "      <td>U.S. military to accept transgender recruits o...</td>\n",
              "      <td>WASHINGTON (Reuters) - Transgender people will...</td>\n",
              "      <td>politicsNews</td>\n",
              "      <td>December 29, 2017</td>\n",
              "    </tr>\n",
              "    <tr>\n",
              "      <th>2</th>\n",
              "      <td>Senior U.S. Republican senator: 'Let Mr. Muell...</td>\n",
              "      <td>WASHINGTON (Reuters) - The special counsel inv...</td>\n",
              "      <td>politicsNews</td>\n",
              "      <td>December 31, 2017</td>\n",
              "    </tr>\n",
              "    <tr>\n",
              "      <th>3</th>\n",
              "      <td>FBI Russia probe helped by Australian diplomat...</td>\n",
              "      <td>WASHINGTON (Reuters) - Trump campaign adviser ...</td>\n",
              "      <td>politicsNews</td>\n",
              "      <td>December 30, 2017</td>\n",
              "    </tr>\n",
              "    <tr>\n",
              "      <th>4</th>\n",
              "      <td>Trump wants Postal Service to charge 'much mor...</td>\n",
              "      <td>SEATTLE/WASHINGTON (Reuters) - President Donal...</td>\n",
              "      <td>politicsNews</td>\n",
              "      <td>December 29, 2017</td>\n",
              "    </tr>\n",
              "    <tr>\n",
              "      <th>...</th>\n",
              "      <td>...</td>\n",
              "      <td>...</td>\n",
              "      <td>...</td>\n",
              "      <td>...</td>\n",
              "    </tr>\n",
              "    <tr>\n",
              "      <th>21412</th>\n",
              "      <td>'Fully committed' NATO backs new U.S. approach...</td>\n",
              "      <td>BRUSSELS (Reuters) - NATO allies on Tuesday we...</td>\n",
              "      <td>worldnews</td>\n",
              "      <td>August 22, 2017</td>\n",
              "    </tr>\n",
              "    <tr>\n",
              "      <th>21413</th>\n",
              "      <td>LexisNexis withdrew two products from Chinese ...</td>\n",
              "      <td>LONDON (Reuters) - LexisNexis, a provider of l...</td>\n",
              "      <td>worldnews</td>\n",
              "      <td>August 22, 2017</td>\n",
              "    </tr>\n",
              "    <tr>\n",
              "      <th>21414</th>\n",
              "      <td>Minsk cultural hub becomes haven from authorities</td>\n",
              "      <td>MINSK (Reuters) - In the shadow of disused Sov...</td>\n",
              "      <td>worldnews</td>\n",
              "      <td>August 22, 2017</td>\n",
              "    </tr>\n",
              "    <tr>\n",
              "      <th>21415</th>\n",
              "      <td>Vatican upbeat on possibility of Pope Francis ...</td>\n",
              "      <td>MOSCOW (Reuters) - Vatican Secretary of State ...</td>\n",
              "      <td>worldnews</td>\n",
              "      <td>August 22, 2017</td>\n",
              "    </tr>\n",
              "    <tr>\n",
              "      <th>21416</th>\n",
              "      <td>Indonesia to buy $1.14 billion worth of Russia...</td>\n",
              "      <td>JAKARTA (Reuters) - Indonesia will buy 11 Sukh...</td>\n",
              "      <td>worldnews</td>\n",
              "      <td>August 22, 2017</td>\n",
              "    </tr>\n",
              "  </tbody>\n",
              "</table>\n",
              "<p>21417 rows × 4 columns</p>\n",
              "</div>"
            ],
            "text/plain": [
              "                                                   title  ...                date\n",
              "0      As U.S. budget fight looms, Republicans flip t...  ...  December 31, 2017 \n",
              "1      U.S. military to accept transgender recruits o...  ...  December 29, 2017 \n",
              "2      Senior U.S. Republican senator: 'Let Mr. Muell...  ...  December 31, 2017 \n",
              "3      FBI Russia probe helped by Australian diplomat...  ...  December 30, 2017 \n",
              "4      Trump wants Postal Service to charge 'much mor...  ...  December 29, 2017 \n",
              "...                                                  ...  ...                 ...\n",
              "21412  'Fully committed' NATO backs new U.S. approach...  ...    August 22, 2017 \n",
              "21413  LexisNexis withdrew two products from Chinese ...  ...    August 22, 2017 \n",
              "21414  Minsk cultural hub becomes haven from authorities  ...    August 22, 2017 \n",
              "21415  Vatican upbeat on possibility of Pope Francis ...  ...    August 22, 2017 \n",
              "21416  Indonesia to buy $1.14 billion worth of Russia...  ...    August 22, 2017 \n",
              "\n",
              "[21417 rows x 4 columns]"
            ]
          },
          "metadata": {},
          "execution_count": 4
        }
      ]
    },
    {
      "cell_type": "code",
      "metadata": {
        "id": "dlvLhSAQbH8F"
      },
      "source": [
        "#Removing Date Attribute\n",
        "real_data = real_data.iloc[:, 0:-1] \n",
        "fake_data = fake_data.iloc[:, 0:-1] "
      ],
      "execution_count": null,
      "outputs": []
    },
    {
      "cell_type": "code",
      "metadata": {
        "colab": {
          "base_uri": "https://localhost:8080/",
          "height": 423
        },
        "id": "wqQxTSQ7cuUK",
        "outputId": "e8042994-faea-478b-e637-83c949ff647b"
      },
      "source": [
        "real_data"
      ],
      "execution_count": null,
      "outputs": [
        {
          "output_type": "execute_result",
          "data": {
            "text/html": [
              "<div>\n",
              "<style scoped>\n",
              "    .dataframe tbody tr th:only-of-type {\n",
              "        vertical-align: middle;\n",
              "    }\n",
              "\n",
              "    .dataframe tbody tr th {\n",
              "        vertical-align: top;\n",
              "    }\n",
              "\n",
              "    .dataframe thead th {\n",
              "        text-align: right;\n",
              "    }\n",
              "</style>\n",
              "<table border=\"1\" class=\"dataframe\">\n",
              "  <thead>\n",
              "    <tr style=\"text-align: right;\">\n",
              "      <th></th>\n",
              "      <th>title</th>\n",
              "      <th>text</th>\n",
              "      <th>subject</th>\n",
              "    </tr>\n",
              "  </thead>\n",
              "  <tbody>\n",
              "    <tr>\n",
              "      <th>0</th>\n",
              "      <td>As U.S. budget fight looms, Republicans flip t...</td>\n",
              "      <td>WASHINGTON (Reuters) - The head of a conservat...</td>\n",
              "      <td>politicsNews</td>\n",
              "    </tr>\n",
              "    <tr>\n",
              "      <th>1</th>\n",
              "      <td>U.S. military to accept transgender recruits o...</td>\n",
              "      <td>WASHINGTON (Reuters) - Transgender people will...</td>\n",
              "      <td>politicsNews</td>\n",
              "    </tr>\n",
              "    <tr>\n",
              "      <th>2</th>\n",
              "      <td>Senior U.S. Republican senator: 'Let Mr. Muell...</td>\n",
              "      <td>WASHINGTON (Reuters) - The special counsel inv...</td>\n",
              "      <td>politicsNews</td>\n",
              "    </tr>\n",
              "    <tr>\n",
              "      <th>3</th>\n",
              "      <td>FBI Russia probe helped by Australian diplomat...</td>\n",
              "      <td>WASHINGTON (Reuters) - Trump campaign adviser ...</td>\n",
              "      <td>politicsNews</td>\n",
              "    </tr>\n",
              "    <tr>\n",
              "      <th>4</th>\n",
              "      <td>Trump wants Postal Service to charge 'much mor...</td>\n",
              "      <td>SEATTLE/WASHINGTON (Reuters) - President Donal...</td>\n",
              "      <td>politicsNews</td>\n",
              "    </tr>\n",
              "    <tr>\n",
              "      <th>...</th>\n",
              "      <td>...</td>\n",
              "      <td>...</td>\n",
              "      <td>...</td>\n",
              "    </tr>\n",
              "    <tr>\n",
              "      <th>21412</th>\n",
              "      <td>'Fully committed' NATO backs new U.S. approach...</td>\n",
              "      <td>BRUSSELS (Reuters) - NATO allies on Tuesday we...</td>\n",
              "      <td>worldnews</td>\n",
              "    </tr>\n",
              "    <tr>\n",
              "      <th>21413</th>\n",
              "      <td>LexisNexis withdrew two products from Chinese ...</td>\n",
              "      <td>LONDON (Reuters) - LexisNexis, a provider of l...</td>\n",
              "      <td>worldnews</td>\n",
              "    </tr>\n",
              "    <tr>\n",
              "      <th>21414</th>\n",
              "      <td>Minsk cultural hub becomes haven from authorities</td>\n",
              "      <td>MINSK (Reuters) - In the shadow of disused Sov...</td>\n",
              "      <td>worldnews</td>\n",
              "    </tr>\n",
              "    <tr>\n",
              "      <th>21415</th>\n",
              "      <td>Vatican upbeat on possibility of Pope Francis ...</td>\n",
              "      <td>MOSCOW (Reuters) - Vatican Secretary of State ...</td>\n",
              "      <td>worldnews</td>\n",
              "    </tr>\n",
              "    <tr>\n",
              "      <th>21416</th>\n",
              "      <td>Indonesia to buy $1.14 billion worth of Russia...</td>\n",
              "      <td>JAKARTA (Reuters) - Indonesia will buy 11 Sukh...</td>\n",
              "      <td>worldnews</td>\n",
              "    </tr>\n",
              "  </tbody>\n",
              "</table>\n",
              "<p>21417 rows × 3 columns</p>\n",
              "</div>"
            ],
            "text/plain": [
              "                                                   title  ...       subject\n",
              "0      As U.S. budget fight looms, Republicans flip t...  ...  politicsNews\n",
              "1      U.S. military to accept transgender recruits o...  ...  politicsNews\n",
              "2      Senior U.S. Republican senator: 'Let Mr. Muell...  ...  politicsNews\n",
              "3      FBI Russia probe helped by Australian diplomat...  ...  politicsNews\n",
              "4      Trump wants Postal Service to charge 'much mor...  ...  politicsNews\n",
              "...                                                  ...  ...           ...\n",
              "21412  'Fully committed' NATO backs new U.S. approach...  ...     worldnews\n",
              "21413  LexisNexis withdrew two products from Chinese ...  ...     worldnews\n",
              "21414  Minsk cultural hub becomes haven from authorities  ...     worldnews\n",
              "21415  Vatican upbeat on possibility of Pope Francis ...  ...     worldnews\n",
              "21416  Indonesia to buy $1.14 billion worth of Russia...  ...     worldnews\n",
              "\n",
              "[21417 rows x 3 columns]"
            ]
          },
          "metadata": {},
          "execution_count": 6
        }
      ]
    },
    {
      "cell_type": "code",
      "metadata": {
        "colab": {
          "base_uri": "https://localhost:8080/"
        },
        "id": "ZOGE4SOIbPD4",
        "outputId": "dc21587e-cfa6-4203-b563-1ed48e0cb63d"
      },
      "source": [
        "print(real_data.shape)\n",
        "print(fake_data.shape)"
      ],
      "execution_count": null,
      "outputs": [
        {
          "output_type": "stream",
          "name": "stdout",
          "text": [
            "(21417, 3)\n",
            "(23481, 3)\n"
          ]
        }
      ]
    },
    {
      "cell_type": "code",
      "metadata": {
        "colab": {
          "base_uri": "https://localhost:8080/"
        },
        "id": "qummkj6Nbtct",
        "outputId": "75387df5-01e9-4a5e-b5dd-5160b0773adb"
      },
      "source": [
        "fake_rate=(fake_data.shape[0])/((fake_data.shape[0])+real_data.shape[0])*100\n",
        "print(\"Percentage of Fake data is: \", fake_rate)"
      ],
      "execution_count": null,
      "outputs": [
        {
          "output_type": "stream",
          "name": "stdout",
          "text": [
            "Percentage of Fake data is:  52.29854336496058\n"
          ]
        }
      ]
    },
    {
      "cell_type": "code",
      "metadata": {
        "colab": {
          "base_uri": "https://localhost:8080/"
        },
        "id": "GjPiIyjybxYB",
        "outputId": "fba87edc-0122-4398-a320-6dd9965e90d7"
      },
      "source": [
        "real_rate=100-fake_rate\n",
        "print(\"Percentage of Real data is: \", real_rate)"
      ],
      "execution_count": null,
      "outputs": [
        {
          "output_type": "stream",
          "name": "stdout",
          "text": [
            "Percentage of Real data is:  47.70145663503942\n"
          ]
        }
      ]
    },
    {
      "cell_type": "code",
      "metadata": {
        "colab": {
          "base_uri": "https://localhost:8080/"
        },
        "id": "KngxNZKubyyS",
        "outputId": "28e2a973-e96b-4d87-82db-69b4448df22b"
      },
      "source": [
        "#Since the amount of fake news is high, the data samples are biased towards fake news\n",
        "#The differece between the percentage is not large and hence we can still have fair accuracy while training our model\n",
        "print(\"Data is biased but can be worked with...\")"
      ],
      "execution_count": null,
      "outputs": [
        {
          "output_type": "stream",
          "name": "stdout",
          "text": [
            "Data is biased but can be worked with...\n"
          ]
        }
      ]
    },
    {
      "cell_type": "code",
      "metadata": {
        "id": "G8Et_qNxb0N0"
      },
      "source": [
        "fake_data['label']=0\n",
        "real_data['label']=1"
      ],
      "execution_count": null,
      "outputs": []
    },
    {
      "cell_type": "code",
      "metadata": {
        "colab": {
          "base_uri": "https://localhost:8080/"
        },
        "id": "kx2VGOv4cBSQ",
        "outputId": "ddc8d1ca-24d7-446e-dff2-597b636fc7a1"
      },
      "source": [
        "fake_data.isna().sum"
      ],
      "execution_count": null,
      "outputs": [
        {
          "output_type": "execute_result",
          "data": {
            "text/plain": [
              "<bound method DataFrame.sum of        title   text  subject  label\n",
              "0      False  False    False  False\n",
              "1      False  False    False  False\n",
              "2      False  False    False  False\n",
              "3      False  False    False  False\n",
              "4      False  False    False  False\n",
              "...      ...    ...      ...    ...\n",
              "23476  False  False    False  False\n",
              "23477  False  False    False  False\n",
              "23478  False  False    False  False\n",
              "23479  False  False    False  False\n",
              "23480  False  False    False  False\n",
              "\n",
              "[23481 rows x 4 columns]>"
            ]
          },
          "metadata": {},
          "execution_count": 12
        }
      ]
    },
    {
      "cell_type": "code",
      "metadata": {
        "colab": {
          "base_uri": "https://localhost:8080/"
        },
        "id": "i2QEGvUScDUu",
        "outputId": "5aa0ea89-d6e4-4a79-a3e7-1d55b2937be7"
      },
      "source": [
        "real_data.isna().sum"
      ],
      "execution_count": null,
      "outputs": [
        {
          "output_type": "execute_result",
          "data": {
            "text/plain": [
              "<bound method DataFrame.sum of        title   text  subject  label\n",
              "0      False  False    False  False\n",
              "1      False  False    False  False\n",
              "2      False  False    False  False\n",
              "3      False  False    False  False\n",
              "4      False  False    False  False\n",
              "...      ...    ...      ...    ...\n",
              "21412  False  False    False  False\n",
              "21413  False  False    False  False\n",
              "21414  False  False    False  False\n",
              "21415  False  False    False  False\n",
              "21416  False  False    False  False\n",
              "\n",
              "[21417 rows x 4 columns]>"
            ]
          },
          "metadata": {},
          "execution_count": 13
        }
      ]
    },
    {
      "cell_type": "code",
      "metadata": {
        "colab": {
          "base_uri": "https://localhost:8080/",
          "height": 423
        },
        "id": "PkNZKZI6cF0h",
        "outputId": "5cd88dc0-f719-4403-dd1e-da1e6cb0a476"
      },
      "source": [
        "data = fake_data\n",
        "data=pd.concat([fake_data,real_data], axis=0, ignore_index=True)\n",
        "data"
      ],
      "execution_count": null,
      "outputs": [
        {
          "output_type": "execute_result",
          "data": {
            "text/html": [
              "<div>\n",
              "<style scoped>\n",
              "    .dataframe tbody tr th:only-of-type {\n",
              "        vertical-align: middle;\n",
              "    }\n",
              "\n",
              "    .dataframe tbody tr th {\n",
              "        vertical-align: top;\n",
              "    }\n",
              "\n",
              "    .dataframe thead th {\n",
              "        text-align: right;\n",
              "    }\n",
              "</style>\n",
              "<table border=\"1\" class=\"dataframe\">\n",
              "  <thead>\n",
              "    <tr style=\"text-align: right;\">\n",
              "      <th></th>\n",
              "      <th>title</th>\n",
              "      <th>text</th>\n",
              "      <th>subject</th>\n",
              "      <th>label</th>\n",
              "    </tr>\n",
              "  </thead>\n",
              "  <tbody>\n",
              "    <tr>\n",
              "      <th>0</th>\n",
              "      <td>Donald Trump Sends Out Embarrassing New Year’...</td>\n",
              "      <td>Donald Trump just couldn t wish all Americans ...</td>\n",
              "      <td>News</td>\n",
              "      <td>0</td>\n",
              "    </tr>\n",
              "    <tr>\n",
              "      <th>1</th>\n",
              "      <td>Drunk Bragging Trump Staffer Started Russian ...</td>\n",
              "      <td>House Intelligence Committee Chairman Devin Nu...</td>\n",
              "      <td>News</td>\n",
              "      <td>0</td>\n",
              "    </tr>\n",
              "    <tr>\n",
              "      <th>2</th>\n",
              "      <td>Sheriff David Clarke Becomes An Internet Joke...</td>\n",
              "      <td>On Friday, it was revealed that former Milwauk...</td>\n",
              "      <td>News</td>\n",
              "      <td>0</td>\n",
              "    </tr>\n",
              "    <tr>\n",
              "      <th>3</th>\n",
              "      <td>Trump Is So Obsessed He Even Has Obama’s Name...</td>\n",
              "      <td>On Christmas day, Donald Trump announced that ...</td>\n",
              "      <td>News</td>\n",
              "      <td>0</td>\n",
              "    </tr>\n",
              "    <tr>\n",
              "      <th>4</th>\n",
              "      <td>Pope Francis Just Called Out Donald Trump Dur...</td>\n",
              "      <td>Pope Francis used his annual Christmas Day mes...</td>\n",
              "      <td>News</td>\n",
              "      <td>0</td>\n",
              "    </tr>\n",
              "    <tr>\n",
              "      <th>...</th>\n",
              "      <td>...</td>\n",
              "      <td>...</td>\n",
              "      <td>...</td>\n",
              "      <td>...</td>\n",
              "    </tr>\n",
              "    <tr>\n",
              "      <th>44893</th>\n",
              "      <td>'Fully committed' NATO backs new U.S. approach...</td>\n",
              "      <td>BRUSSELS (Reuters) - NATO allies on Tuesday we...</td>\n",
              "      <td>worldnews</td>\n",
              "      <td>1</td>\n",
              "    </tr>\n",
              "    <tr>\n",
              "      <th>44894</th>\n",
              "      <td>LexisNexis withdrew two products from Chinese ...</td>\n",
              "      <td>LONDON (Reuters) - LexisNexis, a provider of l...</td>\n",
              "      <td>worldnews</td>\n",
              "      <td>1</td>\n",
              "    </tr>\n",
              "    <tr>\n",
              "      <th>44895</th>\n",
              "      <td>Minsk cultural hub becomes haven from authorities</td>\n",
              "      <td>MINSK (Reuters) - In the shadow of disused Sov...</td>\n",
              "      <td>worldnews</td>\n",
              "      <td>1</td>\n",
              "    </tr>\n",
              "    <tr>\n",
              "      <th>44896</th>\n",
              "      <td>Vatican upbeat on possibility of Pope Francis ...</td>\n",
              "      <td>MOSCOW (Reuters) - Vatican Secretary of State ...</td>\n",
              "      <td>worldnews</td>\n",
              "      <td>1</td>\n",
              "    </tr>\n",
              "    <tr>\n",
              "      <th>44897</th>\n",
              "      <td>Indonesia to buy $1.14 billion worth of Russia...</td>\n",
              "      <td>JAKARTA (Reuters) - Indonesia will buy 11 Sukh...</td>\n",
              "      <td>worldnews</td>\n",
              "      <td>1</td>\n",
              "    </tr>\n",
              "  </tbody>\n",
              "</table>\n",
              "<p>44898 rows × 4 columns</p>\n",
              "</div>"
            ],
            "text/plain": [
              "                                                   title  ... label\n",
              "0       Donald Trump Sends Out Embarrassing New Year’...  ...     0\n",
              "1       Drunk Bragging Trump Staffer Started Russian ...  ...     0\n",
              "2       Sheriff David Clarke Becomes An Internet Joke...  ...     0\n",
              "3       Trump Is So Obsessed He Even Has Obama’s Name...  ...     0\n",
              "4       Pope Francis Just Called Out Donald Trump Dur...  ...     0\n",
              "...                                                  ...  ...   ...\n",
              "44893  'Fully committed' NATO backs new U.S. approach...  ...     1\n",
              "44894  LexisNexis withdrew two products from Chinese ...  ...     1\n",
              "44895  Minsk cultural hub becomes haven from authorities  ...     1\n",
              "44896  Vatican upbeat on possibility of Pope Francis ...  ...     1\n",
              "44897  Indonesia to buy $1.14 billion worth of Russia...  ...     1\n",
              "\n",
              "[44898 rows x 4 columns]"
            ]
          },
          "metadata": {},
          "execution_count": 14
        }
      ]
    },
    {
      "cell_type": "code",
      "metadata": {
        "id": "8k3KuXolcLEl"
      },
      "source": [
        "data_title_label = data.iloc[:, [0,3]]"
      ],
      "execution_count": null,
      "outputs": []
    },
    {
      "cell_type": "code",
      "metadata": {
        "colab": {
          "base_uri": "https://localhost:8080/",
          "height": 423
        },
        "id": "Bx0oKss0cXtq",
        "outputId": "e1ab3d6a-be07-4446-bb7a-954e014d735c"
      },
      "source": [
        "data_title_label"
      ],
      "execution_count": null,
      "outputs": [
        {
          "output_type": "execute_result",
          "data": {
            "text/html": [
              "<div>\n",
              "<style scoped>\n",
              "    .dataframe tbody tr th:only-of-type {\n",
              "        vertical-align: middle;\n",
              "    }\n",
              "\n",
              "    .dataframe tbody tr th {\n",
              "        vertical-align: top;\n",
              "    }\n",
              "\n",
              "    .dataframe thead th {\n",
              "        text-align: right;\n",
              "    }\n",
              "</style>\n",
              "<table border=\"1\" class=\"dataframe\">\n",
              "  <thead>\n",
              "    <tr style=\"text-align: right;\">\n",
              "      <th></th>\n",
              "      <th>title</th>\n",
              "      <th>label</th>\n",
              "    </tr>\n",
              "  </thead>\n",
              "  <tbody>\n",
              "    <tr>\n",
              "      <th>0</th>\n",
              "      <td>Donald Trump Sends Out Embarrassing New Year’...</td>\n",
              "      <td>0</td>\n",
              "    </tr>\n",
              "    <tr>\n",
              "      <th>1</th>\n",
              "      <td>Drunk Bragging Trump Staffer Started Russian ...</td>\n",
              "      <td>0</td>\n",
              "    </tr>\n",
              "    <tr>\n",
              "      <th>2</th>\n",
              "      <td>Sheriff David Clarke Becomes An Internet Joke...</td>\n",
              "      <td>0</td>\n",
              "    </tr>\n",
              "    <tr>\n",
              "      <th>3</th>\n",
              "      <td>Trump Is So Obsessed He Even Has Obama’s Name...</td>\n",
              "      <td>0</td>\n",
              "    </tr>\n",
              "    <tr>\n",
              "      <th>4</th>\n",
              "      <td>Pope Francis Just Called Out Donald Trump Dur...</td>\n",
              "      <td>0</td>\n",
              "    </tr>\n",
              "    <tr>\n",
              "      <th>...</th>\n",
              "      <td>...</td>\n",
              "      <td>...</td>\n",
              "    </tr>\n",
              "    <tr>\n",
              "      <th>44893</th>\n",
              "      <td>'Fully committed' NATO backs new U.S. approach...</td>\n",
              "      <td>1</td>\n",
              "    </tr>\n",
              "    <tr>\n",
              "      <th>44894</th>\n",
              "      <td>LexisNexis withdrew two products from Chinese ...</td>\n",
              "      <td>1</td>\n",
              "    </tr>\n",
              "    <tr>\n",
              "      <th>44895</th>\n",
              "      <td>Minsk cultural hub becomes haven from authorities</td>\n",
              "      <td>1</td>\n",
              "    </tr>\n",
              "    <tr>\n",
              "      <th>44896</th>\n",
              "      <td>Vatican upbeat on possibility of Pope Francis ...</td>\n",
              "      <td>1</td>\n",
              "    </tr>\n",
              "    <tr>\n",
              "      <th>44897</th>\n",
              "      <td>Indonesia to buy $1.14 billion worth of Russia...</td>\n",
              "      <td>1</td>\n",
              "    </tr>\n",
              "  </tbody>\n",
              "</table>\n",
              "<p>44898 rows × 2 columns</p>\n",
              "</div>"
            ],
            "text/plain": [
              "                                                   title  label\n",
              "0       Donald Trump Sends Out Embarrassing New Year’...      0\n",
              "1       Drunk Bragging Trump Staffer Started Russian ...      0\n",
              "2       Sheriff David Clarke Becomes An Internet Joke...      0\n",
              "3       Trump Is So Obsessed He Even Has Obama’s Name...      0\n",
              "4       Pope Francis Just Called Out Donald Trump Dur...      0\n",
              "...                                                  ...    ...\n",
              "44893  'Fully committed' NATO backs new U.S. approach...      1\n",
              "44894  LexisNexis withdrew two products from Chinese ...      1\n",
              "44895  Minsk cultural hub becomes haven from authorities      1\n",
              "44896  Vatican upbeat on possibility of Pope Francis ...      1\n",
              "44897  Indonesia to buy $1.14 billion worth of Russia...      1\n",
              "\n",
              "[44898 rows x 2 columns]"
            ]
          },
          "metadata": {},
          "execution_count": 16
        }
      ]
    },
    {
      "cell_type": "code",
      "metadata": {
        "colab": {
          "base_uri": "https://localhost:8080/"
        },
        "id": "8QJsRhtjdVww",
        "outputId": "aed5e8e9-de00-47af-9c78-e284a9d2a173"
      },
      "source": [
        "import re\n",
        "import nltk\n",
        "nltk.download('stopwords')\n",
        "from nltk.corpus import stopwords\n",
        "from nltk.stem.porter import PorterStemmer\n",
        "corpus = []\n",
        "for i in range(0, 44898):\n",
        "    title = re.sub('[^a-zA-Z]', ' ', data_title_label['title'][i]) # review to contain only letters a to z and if the character is removed replace it by so+pace\n",
        "    title = title.lower() # review to contain only lower case letter\n",
        "    title = title.split() # Splitting the string into different words\n",
        "    ps = PorterStemmer() # Creating object of the class\n",
        "    title = [ps.stem(word) for word in title if not word in set(stopwords.words('english'))]  # Set here is used only for faster execution of code in case there are too many words...\n",
        "    title = ' '.join(title) # Converting the list back to string\n",
        "    corpus.append(title)"
      ],
      "execution_count": null,
      "outputs": [
        {
          "output_type": "stream",
          "name": "stdout",
          "text": [
            "[nltk_data] Downloading package stopwords to /root/nltk_data...\n",
            "[nltk_data]   Unzipping corpora/stopwords.zip.\n"
          ]
        }
      ]
    },
    {
      "cell_type": "code",
      "metadata": {
        "id": "XIx1zyXBdZfe"
      },
      "source": [
        "from sklearn.feature_extraction.text import CountVectorizer\n",
        "cv = CountVectorizer(max_features=15000)\n",
        "X = cv.fit_transform(corpus).toarray()\n",
        "y = data_title_label.iloc[:, 1].values"
      ],
      "execution_count": null,
      "outputs": []
    },
    {
      "cell_type": "code",
      "metadata": {
        "id": "zdt4a3Ypd07W"
      },
      "source": [
        "from sklearn.model_selection import train_test_split\n",
        "X_train, X_test, y_train, y_test = train_test_split(X, y,\n",
        "                                                   test_size=0.25,\n",
        "                                                   random_state=0)"
      ],
      "execution_count": null,
      "outputs": []
    },
    {
      "cell_type": "code",
      "metadata": {
        "id": "NMlsy7kYd3I5"
      },
      "source": [
        "import keras\n",
        "from keras.models import Sequential\n",
        "from keras.layers import Dense\n",
        "from keras.layers import Input, Embedding, LSTM, Concatenate"
      ],
      "execution_count": null,
      "outputs": []
    },
    {
      "cell_type": "code",
      "metadata": {
        "id": "bpQtnFLnd46Y"
      },
      "source": [
        "import tensorflow as tf\n",
        "ann = tf.keras.models.Sequential()"
      ],
      "execution_count": null,
      "outputs": []
    },
    {
      "cell_type": "code",
      "metadata": {
        "id": "Yqo86eRveCmZ"
      },
      "source": [
        "ann.add(tf.keras.layers.Dense(units=6, activation='relu')) \n",
        "ann.add(tf.keras.layers.Dense(units=6, activation='relu')) \n",
        "\n",
        "#Adding RNN (LSTM) Cells\n",
        "ann.concat(LSTM_Layer_1, dense_layer_2)"
      ],
      "execution_count": null,
      "outputs": []
    },
    {
      "cell_type": "code",
      "metadata": {
        "id": "m380JonJgPSE"
      },
      "source": [
        "ann.add(tf.keras.layers.Dense(units=1, activation='sigmoid')) "
      ],
      "execution_count": null,
      "outputs": []
    },
    {
      "cell_type": "code",
      "metadata": {
        "id": "cj9Wp406gWBn"
      },
      "source": [
        "ann.compile(optimizer='adam', loss='binary_crossentropy', metrics=['accuracy'])"
      ],
      "execution_count": null,
      "outputs": []
    },
    {
      "cell_type": "code",
      "metadata": {
        "colab": {
          "base_uri": "https://localhost:8080/"
        },
        "id": "tM9LomXYgcaC",
        "outputId": "5485663a-a262-4d5b-bf2a-9a1580761c29"
      },
      "source": [
        "ann.fit(X_train, y_train, batch_size=32, epochs=100)"
      ],
      "execution_count": null,
      "outputs": [
        {
          "output_type": "stream",
          "name": "stdout",
          "text": [
            "Epoch 1/100\n",
            "1053/1053 [==============================] - 10s 9ms/step - loss: 0.2650 - accuracy: 0.9137\n",
            "Epoch 2/100\n",
            "1053/1053 [==============================] - 9s 9ms/step - loss: 0.0992 - accuracy: 0.9642\n",
            "Epoch 3/100\n",
            "1053/1053 [==============================] - 9s 9ms/step - loss: 0.0687 - accuracy: 0.9764\n",
            "Epoch 4/100\n",
            "1053/1053 [==============================] - 9s 9ms/step - loss: 0.0518 - accuracy: 0.9827\n",
            "Epoch 5/100\n",
            "1053/1053 [==============================] - 9s 9ms/step - loss: 0.0399 - accuracy: 0.9868\n",
            "Epoch 6/100\n",
            "1053/1053 [==============================] - 9s 9ms/step - loss: 0.0304 - accuracy: 0.9901\n",
            "Epoch 7/100\n",
            "1053/1053 [==============================] - 9s 9ms/step - loss: 0.0232 - accuracy: 0.9922\n",
            "Epoch 8/100\n",
            "1053/1053 [==============================] - 9s 9ms/step - loss: 0.0173 - accuracy: 0.9946\n",
            "Epoch 9/100\n",
            "1053/1053 [==============================] - 9s 9ms/step - loss: 0.0136 - accuracy: 0.9958\n",
            "Epoch 10/100\n",
            "1053/1053 [==============================] - 9s 9ms/step - loss: 0.0100 - accuracy: 0.9971\n",
            "Epoch 11/100\n",
            "1053/1053 [==============================] - 9s 8ms/step - loss: 0.0073 - accuracy: 0.9978\n",
            "Epoch 12/100\n",
            "1053/1053 [==============================] - 9s 8ms/step - loss: 0.0060 - accuracy: 0.9983\n",
            "Epoch 13/100\n",
            "1053/1053 [==============================] - 9s 8ms/step - loss: 0.0043 - accuracy: 0.9988\n",
            "Epoch 14/100\n",
            "1053/1053 [==============================] - 9s 8ms/step - loss: 0.0029 - accuracy: 0.9993\n",
            "Epoch 15/100\n",
            "1053/1053 [==============================] - 9s 9ms/step - loss: 0.0024 - accuracy: 0.9994\n",
            "Epoch 16/100\n",
            "1053/1053 [==============================] - 9s 9ms/step - loss: 0.0017 - accuracy: 0.9996\n",
            "Epoch 17/100\n",
            "1053/1053 [==============================] - 9s 9ms/step - loss: 0.0013 - accuracy: 0.9998\n",
            "Epoch 18/100\n",
            "1053/1053 [==============================] - 9s 9ms/step - loss: 0.0012 - accuracy: 0.9997\n",
            "Epoch 19/100\n",
            "1053/1053 [==============================] - 9s 9ms/step - loss: 0.0011 - accuracy: 0.9998\n",
            "Epoch 20/100\n",
            "1053/1053 [==============================] - 9s 8ms/step - loss: 0.0011 - accuracy: 0.9997\n",
            "Epoch 21/100\n",
            "1053/1053 [==============================] - 9s 9ms/step - loss: 6.1020e-04 - accuracy: 0.9998\n",
            "Epoch 22/100\n",
            "1053/1053 [==============================] - 9s 8ms/step - loss: 4.3634e-04 - accuracy: 0.9999\n",
            "Epoch 23/100\n",
            "1053/1053 [==============================] - 9s 8ms/step - loss: 1.2335e-04 - accuracy: 1.0000\n",
            "Epoch 24/100\n",
            "1053/1053 [==============================] - 9s 9ms/step - loss: 8.0657e-05 - accuracy: 1.0000\n",
            "Epoch 25/100\n",
            "1053/1053 [==============================] - 9s 9ms/step - loss: 4.7029e-05 - accuracy: 1.0000\n",
            "Epoch 26/100\n",
            "1053/1053 [==============================] - 9s 9ms/step - loss: 3.1139e-05 - accuracy: 1.0000\n",
            "Epoch 27/100\n",
            "1053/1053 [==============================] - 9s 9ms/step - loss: 5.5380e-05 - accuracy: 1.0000\n",
            "Epoch 28/100\n",
            "1053/1053 [==============================] - 9s 9ms/step - loss: 2.5521e-04 - accuracy: 0.9999\n",
            "Epoch 29/100\n",
            "1053/1053 [==============================] - 9s 9ms/step - loss: 0.0012 - accuracy: 0.9997\n",
            "Epoch 30/100\n",
            "1053/1053 [==============================] - 9s 9ms/step - loss: 7.7174e-04 - accuracy: 0.9998\n",
            "Epoch 31/100\n",
            "1053/1053 [==============================] - 9s 9ms/step - loss: 2.6199e-04 - accuracy: 0.9999\n",
            "Epoch 32/100\n",
            "1053/1053 [==============================] - 9s 9ms/step - loss: 3.9143e-05 - accuracy: 1.0000\n",
            "Epoch 33/100\n",
            "1053/1053 [==============================] - 9s 8ms/step - loss: 1.1625e-05 - accuracy: 1.0000\n",
            "Epoch 34/100\n",
            "1053/1053 [==============================] - 9s 9ms/step - loss: 8.4630e-06 - accuracy: 1.0000\n",
            "Epoch 35/100\n",
            "1053/1053 [==============================] - 9s 9ms/step - loss: 8.9610e-06 - accuracy: 1.0000\n",
            "Epoch 36/100\n",
            "1053/1053 [==============================] - 9s 8ms/step - loss: 6.0197e-06 - accuracy: 1.0000\n",
            "Epoch 37/100\n",
            "1053/1053 [==============================] - 9s 9ms/step - loss: 4.6156e-06 - accuracy: 1.0000\n",
            "Epoch 38/100\n",
            "1053/1053 [==============================] - 9s 9ms/step - loss: 4.0890e-06 - accuracy: 1.0000\n",
            "Epoch 39/100\n",
            "1053/1053 [==============================] - 9s 9ms/step - loss: 1.0838e-05 - accuracy: 1.0000\n",
            "Epoch 40/100\n",
            "1053/1053 [==============================] - 9s 9ms/step - loss: 3.7801e-06 - accuracy: 1.0000\n",
            "Epoch 41/100\n",
            "1053/1053 [==============================] - 9s 9ms/step - loss: 3.6404e-04 - accuracy: 0.9998\n",
            "Epoch 42/100\n",
            "1053/1053 [==============================] - 9s 9ms/step - loss: 2.3028e-04 - accuracy: 0.9999\n",
            "Epoch 43/100\n",
            "1053/1053 [==============================] - 9s 9ms/step - loss: 3.6817e-05 - accuracy: 1.0000\n",
            "Epoch 44/100\n",
            "1053/1053 [==============================] - 10s 9ms/step - loss: 2.2219e-06 - accuracy: 1.0000\n",
            "Epoch 45/100\n",
            "1053/1053 [==============================] - 9s 9ms/step - loss: 1.2051e-06 - accuracy: 1.0000\n",
            "Epoch 46/100\n",
            "1053/1053 [==============================] - 9s 9ms/step - loss: 9.6462e-07 - accuracy: 1.0000\n",
            "Epoch 47/100\n",
            "1053/1053 [==============================] - 10s 9ms/step - loss: 1.0627e-06 - accuracy: 1.0000\n",
            "Epoch 48/100\n",
            "1053/1053 [==============================] - 9s 9ms/step - loss: 1.0362e-06 - accuracy: 1.0000\n",
            "Epoch 49/100\n",
            "1053/1053 [==============================] - 9s 9ms/step - loss: 8.4673e-07 - accuracy: 1.0000\n",
            "Epoch 50/100\n",
            "1053/1053 [==============================] - 9s 9ms/step - loss: 5.5734e-07 - accuracy: 1.0000\n",
            "Epoch 51/100\n",
            "1053/1053 [==============================] - 9s 9ms/step - loss: 4.3799e-07 - accuracy: 1.0000\n",
            "Epoch 52/100\n",
            "1053/1053 [==============================] - 9s 9ms/step - loss: 3.7006e-07 - accuracy: 1.0000\n",
            "Epoch 53/100\n",
            "1053/1053 [==============================] - 9s 9ms/step - loss: 5.4950e-07 - accuracy: 1.0000\n",
            "Epoch 54/100\n",
            "1053/1053 [==============================] - 9s 9ms/step - loss: 2.4736e-07 - accuracy: 1.0000\n",
            "Epoch 55/100\n",
            "1053/1053 [==============================] - 9s 9ms/step - loss: 1.4159e-07 - accuracy: 1.0000\n",
            "Epoch 56/100\n",
            "1053/1053 [==============================] - 9s 9ms/step - loss: 9.6559e-08 - accuracy: 1.0000\n",
            "Epoch 57/100\n",
            "1053/1053 [==============================] - 9s 9ms/step - loss: 7.4663e-08 - accuracy: 1.0000\n",
            "Epoch 58/100\n",
            "1053/1053 [==============================] - 9s 9ms/step - loss: 7.4941e-08 - accuracy: 1.0000\n",
            "Epoch 59/100\n",
            "1053/1053 [==============================] - 9s 9ms/step - loss: 9.1769e-08 - accuracy: 1.0000\n",
            "Epoch 60/100\n",
            "1053/1053 [==============================] - 9s 8ms/step - loss: 4.6397e-08 - accuracy: 1.0000\n",
            "Epoch 61/100\n",
            "1053/1053 [==============================] - 7s 7ms/step - loss: 1.7946e-08 - accuracy: 1.0000\n",
            "Epoch 62/100\n",
            "1053/1053 [==============================] - 7s 7ms/step - loss: 1.2868e-08 - accuracy: 1.0000\n",
            "Epoch 63/100\n",
            "1053/1053 [==============================] - 7s 6ms/step - loss: 9.7813e-09 - accuracy: 1.0000\n",
            "Epoch 64/100\n",
            "1053/1053 [==============================] - 7s 6ms/step - loss: 6.6197e-09 - accuracy: 1.0000\n",
            "Epoch 65/100\n",
            "1053/1053 [==============================] - 7s 7ms/step - loss: 4.9993e-09 - accuracy: 1.0000\n",
            "Epoch 66/100\n",
            "1053/1053 [==============================] - 7s 6ms/step - loss: 3.6011e-09 - accuracy: 1.0000\n",
            "Epoch 67/100\n",
            "1053/1053 [==============================] - 7s 6ms/step - loss: 2.6201e-09 - accuracy: 1.0000\n",
            "Epoch 68/100\n",
            "1053/1053 [==============================] - 7s 6ms/step - loss: 2.0271e-09 - accuracy: 1.0000\n",
            "Epoch 69/100\n",
            "1053/1053 [==============================] - 6s 6ms/step - loss: 1.6069e-09 - accuracy: 1.0000\n",
            "Epoch 70/100\n",
            "1053/1053 [==============================] - 7s 6ms/step - loss: 1.3105e-09 - accuracy: 1.0000\n",
            "Epoch 71/100\n",
            "1053/1053 [==============================] - 7s 6ms/step - loss: 1.1024e-09 - accuracy: 1.0000\n",
            "Epoch 72/100\n",
            "1053/1053 [==============================] - 7s 6ms/step - loss: 9.3844e-10 - accuracy: 1.0000\n",
            "Epoch 73/100\n",
            "1053/1053 [==============================] - 7s 7ms/step - loss: 8.4313e-10 - accuracy: 1.0000\n",
            "Epoch 74/100\n",
            "1053/1053 [==============================] - 7s 6ms/step - loss: 7.4602e-10 - accuracy: 1.0000\n",
            "Epoch 75/100\n",
            "1053/1053 [==============================] - 7s 7ms/step - loss: 6.8881e-10 - accuracy: 1.0000\n",
            "Epoch 76/100\n",
            "1053/1053 [==============================] - 7s 7ms/step - loss: 6.4449e-10 - accuracy: 1.0000\n",
            "Epoch 77/100\n",
            "1053/1053 [==============================] - 7s 7ms/step - loss: 6.0452e-10 - accuracy: 1.0000\n",
            "Epoch 78/100\n",
            "1053/1053 [==============================] - 7s 7ms/step - loss: 5.7515e-10 - accuracy: 1.0000\n",
            "Epoch 79/100\n",
            "1053/1053 [==============================] - 7s 7ms/step - loss: 5.5046e-10 - accuracy: 1.0000\n",
            "Epoch 80/100\n",
            "1053/1053 [==============================] - 7s 6ms/step - loss: 5.1912e-10 - accuracy: 1.0000\n",
            "Epoch 81/100\n",
            "1053/1053 [==============================] - 7s 6ms/step - loss: 5.0483e-10 - accuracy: 1.0000\n",
            "Epoch 82/100\n",
            "1053/1053 [==============================] - 7s 7ms/step - loss: 4.8108e-10 - accuracy: 1.0000\n",
            "Epoch 83/100\n",
            "1053/1053 [==============================] - 7s 7ms/step - loss: 4.7586e-10 - accuracy: 1.0000\n",
            "Epoch 84/100\n",
            "1053/1053 [==============================] - 8s 7ms/step - loss: 4.6122e-10 - accuracy: 1.0000\n",
            "Epoch 85/100\n",
            "1053/1053 [==============================] - 7s 6ms/step - loss: 4.5415e-10 - accuracy: 1.0000\n",
            "Epoch 86/100\n",
            "1053/1053 [==============================] - 7s 6ms/step - loss: 4.3627e-10 - accuracy: 1.0000\n",
            "Epoch 87/100\n",
            "1053/1053 [==============================] - 7s 6ms/step - loss: 4.3238e-10 - accuracy: 1.0000\n",
            "Epoch 88/100\n",
            "1053/1053 [==============================] - 7s 7ms/step - loss: 4.2221e-10 - accuracy: 1.0000\n",
            "Epoch 89/100\n",
            "1053/1053 [==============================] - 7s 7ms/step - loss: 4.1349e-10 - accuracy: 1.0000\n",
            "Epoch 90/100\n",
            "1053/1053 [==============================] - 7s 6ms/step - loss: 4.0625e-10 - accuracy: 1.0000\n",
            "Epoch 91/100\n",
            "1053/1053 [==============================] - 7s 6ms/step - loss: 3.9875e-10 - accuracy: 1.0000\n",
            "Epoch 92/100\n",
            "1053/1053 [==============================] - 7s 7ms/step - loss: 3.9422e-10 - accuracy: 1.0000\n",
            "Epoch 93/100\n",
            "1053/1053 [==============================] - 8s 8ms/step - loss: 3.8809e-10 - accuracy: 1.0000\n",
            "Epoch 94/100\n",
            "1053/1053 [==============================] - 7s 7ms/step - loss: 3.8084e-10 - accuracy: 1.0000\n",
            "Epoch 95/100\n",
            "1053/1053 [==============================] - 7s 6ms/step - loss: 3.7902e-10 - accuracy: 1.0000\n",
            "Epoch 96/100\n",
            "1053/1053 [==============================] - 7s 7ms/step - loss: 3.8110e-10 - accuracy: 1.0000\n",
            "Epoch 97/100\n",
            "1053/1053 [==============================] - 11s 10ms/step - loss: 3.7954e-10 - accuracy: 1.0000\n",
            "Epoch 98/100\n",
            "1053/1053 [==============================] - 10s 9ms/step - loss: 3.7321e-10 - accuracy: 1.0000\n",
            "Epoch 99/100\n",
            "1053/1053 [==============================] - 10s 9ms/step - loss: 3.6253e-10 - accuracy: 1.0000\n",
            "Epoch 100/100\n",
            "1053/1053 [==============================] - 10s 9ms/step - loss: 3.6936e-10 - accuracy: 1.0000\n"
          ]
        },
        {
          "output_type": "execute_result",
          "data": {
            "text/plain": [
              "<keras.callbacks.History at 0x7fbbb384dc50>"
            ]
          },
          "metadata": {},
          "execution_count": 25
        }
      ]
    },
    {
      "cell_type": "code",
      "metadata": {
        "id": "L_HqJ3e_ghSo"
      },
      "source": [
        "y_pred = ann.predict(X_test)"
      ],
      "execution_count": null,
      "outputs": []
    },
    {
      "cell_type": "code",
      "metadata": {
        "id": "8xUda9ZujKkY"
      },
      "source": [
        "y_pred = (y_pred>0.5)"
      ],
      "execution_count": null,
      "outputs": []
    },
    {
      "cell_type": "code",
      "metadata": {
        "colab": {
          "base_uri": "https://localhost:8080/"
        },
        "id": "sDsX-YNSjL2E",
        "outputId": "dabfa59f-24c7-493f-8190-f1a9a1c5d2ed"
      },
      "source": [
        "y_pred"
      ],
      "execution_count": null,
      "outputs": [
        {
          "output_type": "execute_result",
          "data": {
            "text/plain": [
              "array([[ True],\n",
              "       [False],\n",
              "       [ True],\n",
              "       ...,\n",
              "       [ True],\n",
              "       [ True],\n",
              "       [False]])"
            ]
          },
          "metadata": {},
          "execution_count": 28
        }
      ]
    },
    {
      "cell_type": "code",
      "metadata": {
        "colab": {
          "base_uri": "https://localhost:8080/"
        },
        "id": "D0_dUakQjSAg",
        "outputId": "c2e943d8-beae-43a2-a3d6-4c81ec1b47f2"
      },
      "source": [
        "from sklearn.metrics import confusion_matrix\n",
        "confusion_matrix(y_test, y_pred)"
      ],
      "execution_count": null,
      "outputs": [
        {
          "output_type": "execute_result",
          "data": {
            "text/plain": [
              "array([[5608,  268],\n",
              "       [ 467, 4882]])"
            ]
          },
          "metadata": {},
          "execution_count": 29
        }
      ]
    },
    {
      "cell_type": "code",
      "metadata": {
        "colab": {
          "base_uri": "https://localhost:8080/"
        },
        "id": "bwZq7Invjbkq",
        "outputId": "e383b8bd-1f7d-4686-97c7-4f26afcddbe7"
      },
      "source": [
        "from sklearn.metrics import classification_report\n",
        "print(classification_report(y_test, y_pred))"
      ],
      "execution_count": null,
      "outputs": [
        {
          "output_type": "stream",
          "name": "stdout",
          "text": [
            "              precision    recall  f1-score   support\n",
            "\n",
            "           0       0.92      0.95      0.94      5876\n",
            "           1       0.95      0.91      0.93      5349\n",
            "\n",
            "    accuracy                           0.93     11225\n",
            "   macro avg       0.94      0.93      0.93     11225\n",
            "weighted avg       0.93      0.93      0.93     11225\n",
            "\n"
          ]
        }
      ]
    },
    {
      "cell_type": "code",
      "metadata": {
        "colab": {
          "base_uri": "https://localhost:8080/"
        },
        "id": "GKj4sCgFkUwU",
        "outputId": "a2e69fbe-d288-4189-cf87-6a081623c187"
      },
      "source": [
        "X.shape"
      ],
      "execution_count": null,
      "outputs": [
        {
          "output_type": "execute_result",
          "data": {
            "text/plain": [
              "(44898, 13206)"
            ]
          },
          "metadata": {},
          "execution_count": 31
        }
      ]
    },
    {
      "cell_type": "code",
      "metadata": {
        "id": "GNx5rTzVGb7j"
      },
      "source": [
        ""
      ],
      "execution_count": null,
      "outputs": []
    }
  ]
}